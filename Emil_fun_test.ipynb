{
 "cells": [
  {
   "cell_type": "code",
   "execution_count": 1,
   "metadata": {},
   "outputs": [
    {
     "ename": "error",
     "evalue": "OpenCV(4.6.0) D:\\a\\opencv-python\\opencv-python\\opencv\\modules\\highgui\\src\\window_w32.cpp:1261: error: (-27:Null pointer) NULL window: 'face_detect' in function 'cvDestroyWindow'\n",
     "output_type": "error",
     "traceback": [
      "\u001b[1;31m---------------------------------------------------------------------------\u001b[0m",
      "\u001b[1;31merror\u001b[0m                                     Traceback (most recent call last)",
      "\u001b[1;32mc:\\Users\\emilk\\OneDrive\\Skrivbord\\TEDS22_Project\\Emil_fun_test.ipynb Cell 1\u001b[0m in \u001b[0;36m<cell line: 36>\u001b[1;34m()\u001b[0m\n\u001b[0;32m     <a href='vscode-notebook-cell:/c%3A/Users/emilk/OneDrive/Skrivbord/TEDS22_Project/Emil_fun_test.ipynb#W0sZmlsZQ%3D%3D?line=33'>34</a>\u001b[0m         \u001b[39mbreak\u001b[39;00m\n\u001b[0;32m     <a href='vscode-notebook-cell:/c%3A/Users/emilk/OneDrive/Skrivbord/TEDS22_Project/Emil_fun_test.ipynb#W0sZmlsZQ%3D%3D?line=34'>35</a>\u001b[0m cap\u001b[39m.\u001b[39mrelease()\n\u001b[1;32m---> <a href='vscode-notebook-cell:/c%3A/Users/emilk/OneDrive/Skrivbord/TEDS22_Project/Emil_fun_test.ipynb#W0sZmlsZQ%3D%3D?line=35'>36</a>\u001b[0m cv2\u001b[39m.\u001b[39;49mdestroyWindow(\u001b[39m'\u001b[39;49m\u001b[39mface_detect\u001b[39;49m\u001b[39m'\u001b[39;49m)\n",
      "\u001b[1;31merror\u001b[0m: OpenCV(4.6.0) D:\\a\\opencv-python\\opencv-python\\opencv\\modules\\highgui\\src\\window_w32.cpp:1261: error: (-27:Null pointer) NULL window: 'face_detect' in function 'cvDestroyWindow'\n"
     ]
    },
    {
     "ename": "",
     "evalue": "",
     "output_type": "error",
     "traceback": [
      "\u001b[1;31mThe Kernel crashed while executing code in the the current cell or a previous cell. Please review the code in the cell(s) to identify a possible cause of the failure. Click <a href='https://aka.ms/vscodeJupyterKernelCrash'>here</a> for more info. View Jupyter <a href='command:jupyter.viewOutput'>log</a> for further details."
     ]
    }
   ],
   "source": [
    "\n",
    "import cv2\n",
    "\n",
    "# Enable camera\n",
    "cap = cv2.VideoCapture(0)\n",
    "cap.set(3, 640)\n",
    "cap.set(4, 420)\n",
    "\n",
    "# import cascade file for facial recognition\n",
    "faceCascade = cv2.CascadeClassifier(cv2.data.haarcascades + \"haarcascade_frontalface_default.xml\")\n",
    "\n",
    "'''\n",
    "    # if you want to detect any object for example eyes, use one more layer of classifier as below:\n",
    "    eyeCascade = cv2.CascadeClassifier(cv2.data.haarcascades + \"haarcascade_eye_tree_eyeglasses.xml\")\n",
    "'''\n",
    "\n",
    "while True:\n",
    "    #count amount of faces in the frame\n",
    "    count = 0\n",
    "    # Capture frame-by-frame\n",
    "    ret, frame = cap.read()\n",
    "    # Convert to grayscale\n",
    "    gray = cv2.cvtColor(frame, cv2.COLOR_BGR2GRAY)\n",
    "    # Detect faces\n",
    "    faces = faceCascade.detectMultiScale(gray, 1.1, 4)\n",
    "    # Draw rectangle around the faces\n",
    "    for (x, y, w, h) in faces:\n",
    "        cv2.rectangle(frame, (x, y), (x+w, y+h), (255, 0, 0), 2)\n",
    "        count += 1\n",
    "    # Display the output\n",
    "    cv2.putText(frame, \"Faces: \" + str(count), (10, 30), cv2.FONT_HERSHEY_SIMPLEX, 0.7, (0, 0, 255), 2)\n",
    "    cv2.imshow('frame', frame)\n",
    "    # Press 'q' to quit\n",
    "    if cv2.waitKey(10) & 0xFF == ord('q'):\n",
    "        break\n",
    "cap.release()\n",
    "cv2.destroyWindow('face_detect')"
   ]
  },
  {
   "cell_type": "code",
   "execution_count": 1,
   "metadata": {},
   "outputs": [],
   "source": [
    "import cv2\n",
    "\n",
    "# Enable camera\n",
    "cap = cv2.VideoCapture(0)\n",
    "cap.set(cv2.CAP_PROP_FRAME_WIDTH, 299)\n",
    "cap.set(cv2.CAP_PROP_FRAME_HEIGHT, 299)\n",
    "\n",
    "# import cascade file for facial recognition\n",
    "faceCascade = cv2.CascadeClassifier(cv2.data.haarcascades + \"haarcascade_frontalface_default.xml\")\n",
    "\n",
    "'''\n",
    "    # if you want to detect any object for example eyes, use one more layer of classifier as below:\n",
    "    eyeCascade = cv2.CascadeClassifier(cv2.data.haarcascades + \"haarcascade_eye_tree_eyeglasses.xml\")\n",
    "'''\n",
    "\n",
    "while True:\n",
    "    count = 0\n",
    "    success, img = cap.read()\n",
    "    imgGray = cv2.cvtColor(img, cv2.COLOR_BGR2GRAY)\n",
    "\n",
    "    # Getting corners around the face\n",
    "    faces = faceCascade.detectMultiScale(imgGray, 1.3, 5)  # 1.3 = scale factor, 5 = minimum neighbor\n",
    "    # drawing bounding box around face\n",
    "    for (x, y, w, h) in faces:\n",
    "        img = cv2.rectangle(img, (x, y), (x + w, y + h), (0, 255, 0), 3)\n",
    "        count += 1\n",
    "\n",
    "    '''\n",
    "    # detecting eyes\n",
    "    eyes = eyeCascade.detectMultiScale(imgGray)\n",
    "    # drawing bounding box for eyes\n",
    "    for (ex, ey, ew, eh) in eyes:\n",
    "        img = cv2.rectangle(img, (ex, ey), (ex+ew, ey+eh), (255, 0, 0), 3)\n",
    "    '''\n",
    "    cv2.putText(img, \"Faces: \" + str(count), (10, 30), cv2.FONT_HERSHEY_SIMPLEX, 0.7, (0, 0, 255), 2)\n",
    "    cv2.imshow('face_detect', img)\n",
    "    if cv2.waitKey(10) & 0xFF == ord('q'):\n",
    "        break\n",
    "cap.release()\n",
    "cv2.destroyWindow('face_detect')"
   ]
  }
 ],
 "metadata": {
  "kernelspec": {
   "display_name": "Python 3.9.11 ('tf-gpu')",
   "language": "python",
   "name": "python3"
  },
  "language_info": {
   "codemirror_mode": {
    "name": "ipython",
    "version": 3
   },
   "file_extension": ".py",
   "mimetype": "text/x-python",
   "name": "python",
   "nbconvert_exporter": "python",
   "pygments_lexer": "ipython3",
   "version": "3.9.11"
  },
  "orig_nbformat": 4,
  "vscode": {
   "interpreter": {
    "hash": "d586eaf64391e1ecb71184628a46c5e7e4029dd798c901a4db62bfc507a13580"
   }
  }
 },
 "nbformat": 4,
 "nbformat_minor": 2
}
